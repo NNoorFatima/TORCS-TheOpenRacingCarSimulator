{
 "cells": [
  {
   "cell_type": "code",
   "execution_count": 2,
   "id": "d491be4e",
   "metadata": {},
   "outputs": [
    {
     "name": "stdout",
     "output_type": "stream",
     "text": [
      "--- First 5 rows ---\n",
      "     speedX    speedY    speedZ      rpm  fuel  damage  sensor_gear  racePos  \\\n",
      "0 -0.001666  0.106768 -0.032091  942.478  94.0     1.0            0        1   \n",
      "1 -0.001666  0.106768 -0.032091  942.478  94.0     1.0            0        1   \n",
      "2 -0.001666  0.106768 -0.032091  942.478  94.0     1.0            0        1   \n",
      "3 -0.001666  0.106768 -0.032091  942.478  94.0     1.0            0        1   \n",
      "4 -0.001666  0.106768 -0.032091  942.478  94.0     1.0            0        1   \n",
      "\n",
      "   distFromStart  distRaced  ...  wheelSpinVel_1  wheelSpinVel_2  \\\n",
      "0         2952.6        0.0  ...             0.0             0.0   \n",
      "1         2952.6        0.0  ...             0.0             0.0   \n",
      "2         2952.6        0.0  ...             0.0             0.0   \n",
      "3         2952.6        0.0  ...             0.0             0.0   \n",
      "4         2952.6        0.0  ...             0.0             0.0   \n",
      "\n",
      "   wheelSpinVel_3  accel  brake  steer  control_gear  clutch  focus  meta  \n",
      "0             0.0    0.0    0.0    0.0           0.0       0      0   NaN  \n",
      "1             0.0    0.0    0.0    0.0           0.0       0      0   NaN  \n",
      "2             0.0    0.0    0.0    0.0           0.0       0      0   NaN  \n",
      "3             0.0    0.0    0.0    0.0           0.0       0      0   NaN  \n",
      "4             0.0    0.0    0.0    0.0           0.0       0      0   NaN  \n",
      "\n",
      "[5 rows x 81 columns]\n",
      "\n",
      "--- Column Info ---\n",
      "<class 'pandas.core.frame.DataFrame'>\n",
      "RangeIndex: 31540 entries, 0 to 31539\n",
      "Data columns (total 81 columns):\n",
      " #   Column          Non-Null Count  Dtype  \n",
      "---  ------          --------------  -----  \n",
      " 0   speedX          31540 non-null  float64\n",
      " 1   speedY          31540 non-null  float64\n",
      " 2   speedZ          31540 non-null  float64\n",
      " 3   rpm             31540 non-null  float64\n",
      " 4   fuel            31540 non-null  float64\n",
      " 5   damage          31540 non-null  float64\n",
      " 6   sensor_gear     31540 non-null  int64  \n",
      " 7   racePos         31540 non-null  int64  \n",
      " 8   distFromStart   31540 non-null  float64\n",
      " 9   distRaced       31540 non-null  float64\n",
      " 10  curLapTime      31540 non-null  float64\n",
      " 11  lastLapTime     31540 non-null  float64\n",
      " 12  trackPos        31540 non-null  float64\n",
      " 13  angle           31540 non-null  float64\n",
      " 14  z               31540 non-null  float64\n",
      " 15  track_0         31540 non-null  float64\n",
      " 16  track_1         31540 non-null  float64\n",
      " 17  track_2         31540 non-null  float64\n",
      " 18  track_3         31540 non-null  float64\n",
      " 19  track_4         31540 non-null  float64\n",
      " 20  track_5         31540 non-null  float64\n",
      " 21  track_6         31540 non-null  float64\n",
      " 22  track_7         31540 non-null  float64\n",
      " 23  track_8         31540 non-null  float64\n",
      " 24  track_9         31540 non-null  float64\n",
      " 25  track_10        31540 non-null  float64\n",
      " 26  track_11        31540 non-null  float64\n",
      " 27  track_12        31540 non-null  float64\n",
      " 28  track_13        31540 non-null  float64\n",
      " 29  track_14        31540 non-null  float64\n",
      " 30  track_15        31540 non-null  float64\n",
      " 31  track_16        31540 non-null  float64\n",
      " 32  track_17        31540 non-null  float64\n",
      " 33  track_18        31540 non-null  float64\n",
      " 34  opponents_0     31540 non-null  float64\n",
      " 35  opponents_1     31540 non-null  float64\n",
      " 36  opponents_2     31540 non-null  float64\n",
      " 37  opponents_3     31540 non-null  float64\n",
      " 38  opponents_4     31540 non-null  float64\n",
      " 39  opponents_5     31540 non-null  float64\n",
      " 40  opponents_6     31540 non-null  float64\n",
      " 41  opponents_7     31540 non-null  float64\n",
      " 42  opponents_8     31540 non-null  float64\n",
      " 43  opponents_9     31540 non-null  float64\n",
      " 44  opponents_10    31540 non-null  float64\n",
      " 45  opponents_11    31540 non-null  float64\n",
      " 46  opponents_12    31540 non-null  float64\n",
      " 47  opponents_13    31540 non-null  float64\n",
      " 48  opponents_14    31540 non-null  float64\n",
      " 49  opponents_15    31540 non-null  float64\n",
      " 50  opponents_16    31540 non-null  float64\n",
      " 51  opponents_17    31540 non-null  float64\n",
      " 52  opponents_18    31540 non-null  float64\n",
      " 53  opponents_19    31540 non-null  float64\n",
      " 54  opponents_20    31540 non-null  float64\n",
      " 55  opponents_21    31540 non-null  float64\n",
      " 56  opponents_22    31540 non-null  float64\n",
      " 57  opponents_23    31540 non-null  float64\n",
      " 58  opponents_24    31540 non-null  float64\n",
      " 59  opponents_25    31540 non-null  float64\n",
      " 60  opponents_26    31540 non-null  float64\n",
      " 61  opponents_27    31540 non-null  float64\n",
      " 62  opponents_28    31540 non-null  float64\n",
      " 63  opponents_29    31540 non-null  float64\n",
      " 64  opponents_30    31540 non-null  float64\n",
      " 65  opponents_31    31540 non-null  float64\n",
      " 66  opponents_32    31540 non-null  float64\n",
      " 67  opponents_33    31540 non-null  float64\n",
      " 68  opponents_34    31540 non-null  float64\n",
      " 69  opponents_35    31540 non-null  float64\n",
      " 70  wheelSpinVel_0  31540 non-null  float64\n",
      " 71  wheelSpinVel_1  31540 non-null  float64\n",
      " 72  wheelSpinVel_2  31540 non-null  float64\n",
      " 73  wheelSpinVel_3  31540 non-null  float64\n",
      " 74  accel           31540 non-null  float64\n",
      " 75  brake           31540 non-null  float64\n",
      " 76  steer           31540 non-null  float64\n",
      " 77  control_gear    31540 non-null  float64\n",
      " 78  clutch          31540 non-null  int64  \n",
      " 79  focus           31540 non-null  int64  \n",
      " 80  meta            0 non-null      float64\n",
      "dtypes: float64(77), int64(4)\n",
      "memory usage: 19.5 MB\n",
      "\n",
      "--- Numerical Column Stats ---\n",
      "             speedX        speedY        speedZ           rpm          fuel  \\\n",
      "count  31540.000000  31540.000000  31540.000000  31540.000000  31540.000000   \n",
      "mean      18.289231     -2.577816     -0.024095   3942.264304     93.517988   \n",
      "std       36.453071     13.972085      2.906283   3855.085694      0.459398   \n",
      "min     -127.091000   -138.375000    -23.696700      0.000000     91.345500   \n",
      "25%        0.036511     -0.423557     -0.010718    942.478000     93.304200   \n",
      "50%        0.388900     -0.001365     -0.000038    942.478000     93.593900   \n",
      "75%       21.822375      0.110233      0.010308   8935.742500     93.809500   \n",
      "max      178.527000    121.745000     21.497500  10437.800000     94.000000   \n",
      "\n",
      "             damage   sensor_gear       racePos  distFromStart     distRaced  \\\n",
      "count  31540.000000  31540.000000  31540.000000   31540.000000  31540.000000   \n",
      "mean    2331.982340      1.765124      5.747178     341.350344    188.863661   \n",
      "std     2674.818246      1.594404      3.966432     669.310784    127.604271   \n",
      "min        1.000000     -1.000000      1.000000       0.034729      0.000000   \n",
      "25%      125.000000      1.000000      2.000000      95.874575    103.973250   \n",
      "50%     1255.000000      1.000000      4.000000     129.323000    147.703000   \n",
      "75%     3367.000000      2.000000     10.000000     263.857250    274.472000   \n",
      "max    10335.000000      6.000000     15.000000    2977.520000    871.455000   \n",
      "\n",
      "       ...  wheelSpinVel_1  wheelSpinVel_2  wheelSpinVel_3         accel  \\\n",
      "count  ...    31540.000000    31540.000000    31540.000000  31540.000000   \n",
      "mean   ...       15.476944       29.246657       29.206508      0.908307   \n",
      "std    ...       30.949191       38.191518       38.209056      0.288597   \n",
      "min    ...     -107.401000      -78.733500      -84.246100      0.000000   \n",
      "25%    ...       -0.663412        0.543365        0.513867      1.000000   \n",
      "50%    ...        1.354845        3.811370        3.759765      1.000000   \n",
      "75%    ...       21.443950       69.468375       69.462575      1.000000   \n",
      "max    ...      152.256000      193.980000      194.567000      1.000000   \n",
      "\n",
      "              brake         steer  control_gear   clutch    focus  meta  \n",
      "count  31540.000000  31540.000000       31540.0  31540.0  31540.0   0.0  \n",
      "mean       0.023050      0.210875           0.0      0.0      0.0   NaN  \n",
      "std        0.150065      0.460510           0.0      0.0      0.0   NaN  \n",
      "min        0.000000     -1.000000           0.0      0.0      0.0   NaN  \n",
      "25%        0.000000      0.000000           0.0      0.0      0.0   NaN  \n",
      "50%        0.000000      0.000000           0.0      0.0      0.0   NaN  \n",
      "75%        0.000000      0.000000           0.0      0.0      0.0   NaN  \n",
      "max        1.000000      1.000000           0.0      0.0      0.0   NaN  \n",
      "\n",
      "[8 rows x 81 columns]\n"
     ]
    }
   ],
   "source": [
    "import pandas as pd\n",
    "\n",
    "# Load the dataset\n",
    "dataset = pd.read_csv(\"G-Speedway.csv\")\n",
    "\n",
    "# Display the first 5 rows\n",
    "print(\"--- First 5 rows ---\")\n",
    "print(dataset.head())\n",
    "\n",
    "# Get information about columns and data types\n",
    "print(\"\\n--- Column Info ---\")\n",
    "dataset.info()\n",
    "\n",
    "# Get descriptive statistics for numerical columns\n",
    "print(\"\\n--- Numerical Column Stats ---\")\n",
    "print(dataset.describe())"
   ]
  },
  {
   "cell_type": "code",
   "execution_count": 3,
   "id": "6da69e9e",
   "metadata": {},
   "outputs": [
    {
     "name": "stdout",
     "output_type": "stream",
     "text": [
      "--- First 5 rows after dropping and encoding ---\n",
      "     speedX    speedY    speedZ      rpm  fuel  damage  sensor_gear  racePos  \\\n",
      "0 -0.001666  0.106768 -0.032091  942.478  94.0     1.0            0        1   \n",
      "1 -0.001666  0.106768 -0.032091  942.478  94.0     1.0            0        1   \n",
      "2 -0.001666  0.106768 -0.032091  942.478  94.0     1.0            0        1   \n",
      "3 -0.001666  0.106768 -0.032091  942.478  94.0     1.0            0        1   \n",
      "4 -0.001666  0.106768 -0.032091  942.478  94.0     1.0            0        1   \n",
      "\n",
      "   distFromStart  distRaced  ...  wheelSpinVel_0  wheelSpinVel_1  \\\n",
      "0         2952.6        0.0  ...             0.0             0.0   \n",
      "1         2952.6        0.0  ...             0.0             0.0   \n",
      "2         2952.6        0.0  ...             0.0             0.0   \n",
      "3         2952.6        0.0  ...             0.0             0.0   \n",
      "4         2952.6        0.0  ...             0.0             0.0   \n",
      "\n",
      "   wheelSpinVel_2  wheelSpinVel_3  accel  brake  steer  clutch  focus  gear_0  \n",
      "0             0.0             0.0    0.0    0.0    0.0       0      0    True  \n",
      "1             0.0             0.0    0.0    0.0    0.0       0      0    True  \n",
      "2             0.0             0.0    0.0    0.0    0.0       0      0    True  \n",
      "3             0.0             0.0    0.0    0.0    0.0       0      0    True  \n",
      "4             0.0             0.0    0.0    0.0    0.0       0      0    True  \n",
      "\n",
      "[5 rows x 25 columns]\n",
      "\n",
      "--- Dataset Info after dropping and encoding ---\n",
      "<class 'pandas.core.frame.DataFrame'>\n",
      "RangeIndex: 31540 entries, 0 to 31539\n",
      "Data columns (total 25 columns):\n",
      " #   Column          Non-Null Count  Dtype  \n",
      "---  ------          --------------  -----  \n",
      " 0   speedX          31540 non-null  float64\n",
      " 1   speedY          31540 non-null  float64\n",
      " 2   speedZ          31540 non-null  float64\n",
      " 3   rpm             31540 non-null  float64\n",
      " 4   fuel            31540 non-null  float64\n",
      " 5   damage          31540 non-null  float64\n",
      " 6   sensor_gear     31540 non-null  int64  \n",
      " 7   racePos         31540 non-null  int64  \n",
      " 8   distFromStart   31540 non-null  float64\n",
      " 9   distRaced       31540 non-null  float64\n",
      " 10  curLapTime      31540 non-null  float64\n",
      " 11  lastLapTime     31540 non-null  float64\n",
      " 12  trackPos        31540 non-null  float64\n",
      " 13  angle           31540 non-null  float64\n",
      " 14  z               31540 non-null  float64\n",
      " 15  wheelSpinVel_0  31540 non-null  float64\n",
      " 16  wheelSpinVel_1  31540 non-null  float64\n",
      " 17  wheelSpinVel_2  31540 non-null  float64\n",
      " 18  wheelSpinVel_3  31540 non-null  float64\n",
      " 19  accel           31540 non-null  float64\n",
      " 20  brake           31540 non-null  float64\n",
      " 21  steer           31540 non-null  float64\n",
      " 22  clutch          31540 non-null  int64  \n",
      " 23  focus           31540 non-null  int64  \n",
      " 24  gear_0          31540 non-null  bool   \n",
      "dtypes: bool(1), float64(20), int64(4)\n",
      "memory usage: 5.8 MB\n"
     ]
    }
   ],
   "source": [
    "# 1. Drop 'meta', 'track_*', and 'opponents_*' columns\n",
    "columns_to_drop = ['meta'] + [col for col in dataset.columns if col.startswith('track_')] + [col for col in dataset.columns if col.startswith('opponents_')]\n",
    "dataset = dataset.drop(columns=columns_to_drop)\n",
    "\n",
    "# 2. Convert 'control_gear' to integer\n",
    "dataset['control_gear'] = dataset['control_gear'].astype(int)\n",
    "\n",
    "# 3. One-hot encode 'control_gear'\n",
    "dataset = pd.get_dummies(dataset, columns=['control_gear'], prefix='gear')\n",
    "\n",
    "# Display the first 5 rows and info to check the changes\n",
    "print(\"--- First 5 rows after dropping and encoding ---\")\n",
    "print(dataset.head())\n",
    "print(\"\\n--- Dataset Info after dropping and encoding ---\")\n",
    "dataset.info()"
   ]
  },
  {
   "cell_type": "code",
   "execution_count": 4,
   "id": "93da2904",
   "metadata": {},
   "outputs": [
    {
     "name": "stdout",
     "output_type": "stream",
     "text": [
      "\n",
      "--- First 5 rows after scaling ---\n",
      "     speedX    speedY   speedZ       rpm  fuel  damage  sensor_gear  racePos  \\\n",
      "0  0.415844  0.532376  0.52362  0.090295   1.0     0.0     0.142857      0.0   \n",
      "1  0.415844  0.532376  0.52362  0.090295   1.0     0.0     0.142857      0.0   \n",
      "2  0.415844  0.532376  0.52362  0.090295   1.0     0.0     0.142857      0.0   \n",
      "3  0.415844  0.532376  0.52362  0.090295   1.0     0.0     0.142857      0.0   \n",
      "4  0.415844  0.532376  0.52362  0.090295   1.0     0.0     0.142857      0.0   \n",
      "\n",
      "   distFromStart  distRaced  ...  wheelSpinVel_0  wheelSpinVel_1  \\\n",
      "0       0.991631        0.0  ...        0.385991        0.413626   \n",
      "1       0.991631        0.0  ...        0.385991        0.413626   \n",
      "2       0.991631        0.0  ...        0.385991        0.413626   \n",
      "3       0.991631        0.0  ...        0.385991        0.413626   \n",
      "4       0.991631        0.0  ...        0.385991        0.413626   \n",
      "\n",
      "   wheelSpinVel_2  wheelSpinVel_3  accel  brake  steer  clutch  focus  gear_0  \n",
      "0        0.288704         0.30216    0.0    0.0    0.5     0.0    0.0       1  \n",
      "1        0.288704         0.30216    0.0    0.0    0.5     0.0    0.0       1  \n",
      "2        0.288704         0.30216    0.0    0.0    0.5     0.0    0.0       1  \n",
      "3        0.288704         0.30216    0.0    0.0    0.5     0.0    0.0       1  \n",
      "4        0.288704         0.30216    0.0    0.0    0.5     0.0    0.0       1  \n",
      "\n",
      "[5 rows x 25 columns]\n",
      "\n",
      "--- Dataset Info after scaling ---\n",
      "<class 'pandas.core.frame.DataFrame'>\n",
      "RangeIndex: 31540 entries, 0 to 31539\n",
      "Data columns (total 25 columns):\n",
      " #   Column          Non-Null Count  Dtype  \n",
      "---  ------          --------------  -----  \n",
      " 0   speedX          31540 non-null  float64\n",
      " 1   speedY          31540 non-null  float64\n",
      " 2   speedZ          31540 non-null  float64\n",
      " 3   rpm             31540 non-null  float64\n",
      " 4   fuel            31540 non-null  float64\n",
      " 5   damage          31540 non-null  float64\n",
      " 6   sensor_gear     31540 non-null  float64\n",
      " 7   racePos         31540 non-null  float64\n",
      " 8   distFromStart   31540 non-null  float64\n",
      " 9   distRaced       31540 non-null  float64\n",
      " 10  curLapTime      31540 non-null  float64\n",
      " 11  lastLapTime     31540 non-null  float64\n",
      " 12  trackPos        31540 non-null  float64\n",
      " 13  angle           31540 non-null  float64\n",
      " 14  z               31540 non-null  float64\n",
      " 15  wheelSpinVel_0  31540 non-null  float64\n",
      " 16  wheelSpinVel_1  31540 non-null  float64\n",
      " 17  wheelSpinVel_2  31540 non-null  float64\n",
      " 18  wheelSpinVel_3  31540 non-null  float64\n",
      " 19  accel           31540 non-null  float64\n",
      " 20  brake           31540 non-null  float64\n",
      " 21  steer           31540 non-null  float64\n",
      " 22  clutch          31540 non-null  float64\n",
      " 23  focus           31540 non-null  float64\n",
      " 24  gear_0          31540 non-null  int8   \n",
      "dtypes: float64(24), int8(1)\n",
      "memory usage: 5.8 MB\n"
     ]
    }
   ],
   "source": [
    "import pandas as pd\n",
    "from sklearn.preprocessing import MinMaxScaler  # Import MinMaxScaler\n",
    "\n",
    "# 1. Convert gear_* columns to int8\n",
    "gear_cols = [col for col in dataset.columns if col.startswith('gear_')]\n",
    "dataset[gear_cols] = dataset[gear_cols].astype('int8')\n",
    "\n",
    "# 2. Identify numerical columns (excluding the one-hot encoded gear columns)\n",
    "numerical_cols = [col for col in dataset.columns if dataset[col].dtype in ['float64', 'int64'] and not col.startswith('gear_')]\n",
    "\n",
    "# 3. Apply MinMaxScaler to numerical columns\n",
    "scaler = MinMaxScaler()\n",
    "dataset[numerical_cols] = scaler.fit_transform(dataset[numerical_cols])\n",
    "\n",
    "# 4. Final Check\n",
    "print(\"\\n--- First 5 rows after scaling ---\")\n",
    "print(dataset.head())\n",
    "print(\"\\n--- Dataset Info after scaling ---\")\n",
    "dataset.info()"
   ]
  },
  {
   "cell_type": "code",
   "execution_count": 5,
   "id": "f18088fd",
   "metadata": {},
   "outputs": [
    {
     "name": "stderr",
     "output_type": "stream",
     "text": [
      "d:\\University Work\\6th Semester\\ML\\ML_Semester-Project_i222369_i222325\\tfenv311\\Lib\\site-packages\\keras\\src\\layers\\rnn\\rnn.py:200: UserWarning: Do not pass an `input_shape`/`input_dim` argument to a layer. When using Sequential models, prefer using an `Input(shape)` object as the first layer in the model instead.\n",
      "  super().__init__(**kwargs)\n"
     ]
    },
    {
     "data": {
      "text/html": [
       "<pre style=\"white-space:pre;overflow-x:auto;line-height:normal;font-family:Menlo,'DejaVu Sans Mono',consolas,'Courier New',monospace\"><span style=\"font-weight: bold\">Model: \"sequential\"</span>\n",
       "</pre>\n"
      ],
      "text/plain": [
       "\u001b[1mModel: \"sequential\"\u001b[0m\n"
      ]
     },
     "metadata": {},
     "output_type": "display_data"
    },
    {
     "data": {
      "text/html": [
       "<pre style=\"white-space:pre;overflow-x:auto;line-height:normal;font-family:Menlo,'DejaVu Sans Mono',consolas,'Courier New',monospace\">┏━━━━━━━━━━━━━━━━━━━━━━━━━━━━━━━━━┳━━━━━━━━━━━━━━━━━━━━━━━━┳━━━━━━━━━━━━━━━┓\n",
       "┃<span style=\"font-weight: bold\"> Layer (type)                    </span>┃<span style=\"font-weight: bold\"> Output Shape           </span>┃<span style=\"font-weight: bold\">       Param # </span>┃\n",
       "┡━━━━━━━━━━━━━━━━━━━━━━━━━━━━━━━━━╇━━━━━━━━━━━━━━━━━━━━━━━━╇━━━━━━━━━━━━━━━┩\n",
       "│ lstm (<span style=\"color: #0087ff; text-decoration-color: #0087ff\">LSTM</span>)                     │ (<span style=\"color: #00d7ff; text-decoration-color: #00d7ff\">None</span>, <span style=\"color: #00af00; text-decoration-color: #00af00\">64</span>)             │        <span style=\"color: #00af00; text-decoration-color: #00af00\">21,504</span> │\n",
       "├─────────────────────────────────┼────────────────────────┼───────────────┤\n",
       "│ dense (<span style=\"color: #0087ff; text-decoration-color: #0087ff\">Dense</span>)                   │ (<span style=\"color: #00d7ff; text-decoration-color: #00d7ff\">None</span>, <span style=\"color: #00af00; text-decoration-color: #00af00\">6</span>)              │           <span style=\"color: #00af00; text-decoration-color: #00af00\">390</span> │\n",
       "└─────────────────────────────────┴────────────────────────┴───────────────┘\n",
       "</pre>\n"
      ],
      "text/plain": [
       "┏━━━━━━━━━━━━━━━━━━━━━━━━━━━━━━━━━┳━━━━━━━━━━━━━━━━━━━━━━━━┳━━━━━━━━━━━━━━━┓\n",
       "┃\u001b[1m \u001b[0m\u001b[1mLayer (type)                   \u001b[0m\u001b[1m \u001b[0m┃\u001b[1m \u001b[0m\u001b[1mOutput Shape          \u001b[0m\u001b[1m \u001b[0m┃\u001b[1m \u001b[0m\u001b[1m      Param #\u001b[0m\u001b[1m \u001b[0m┃\n",
       "┡━━━━━━━━━━━━━━━━━━━━━━━━━━━━━━━━━╇━━━━━━━━━━━━━━━━━━━━━━━━╇━━━━━━━━━━━━━━━┩\n",
       "│ lstm (\u001b[38;5;33mLSTM\u001b[0m)                     │ (\u001b[38;5;45mNone\u001b[0m, \u001b[38;5;34m64\u001b[0m)             │        \u001b[38;5;34m21,504\u001b[0m │\n",
       "├─────────────────────────────────┼────────────────────────┼───────────────┤\n",
       "│ dense (\u001b[38;5;33mDense\u001b[0m)                   │ (\u001b[38;5;45mNone\u001b[0m, \u001b[38;5;34m6\u001b[0m)              │           \u001b[38;5;34m390\u001b[0m │\n",
       "└─────────────────────────────────┴────────────────────────┴───────────────┘\n"
      ]
     },
     "metadata": {},
     "output_type": "display_data"
    },
    {
     "data": {
      "text/html": [
       "<pre style=\"white-space:pre;overflow-x:auto;line-height:normal;font-family:Menlo,'DejaVu Sans Mono',consolas,'Courier New',monospace\"><span style=\"font-weight: bold\"> Total params: </span><span style=\"color: #00af00; text-decoration-color: #00af00\">21,894</span> (85.52 KB)\n",
       "</pre>\n"
      ],
      "text/plain": [
       "\u001b[1m Total params: \u001b[0m\u001b[38;5;34m21,894\u001b[0m (85.52 KB)\n"
      ]
     },
     "metadata": {},
     "output_type": "display_data"
    },
    {
     "data": {
      "text/html": [
       "<pre style=\"white-space:pre;overflow-x:auto;line-height:normal;font-family:Menlo,'DejaVu Sans Mono',consolas,'Courier New',monospace\"><span style=\"font-weight: bold\"> Trainable params: </span><span style=\"color: #00af00; text-decoration-color: #00af00\">21,894</span> (85.52 KB)\n",
       "</pre>\n"
      ],
      "text/plain": [
       "\u001b[1m Trainable params: \u001b[0m\u001b[38;5;34m21,894\u001b[0m (85.52 KB)\n"
      ]
     },
     "metadata": {},
     "output_type": "display_data"
    },
    {
     "data": {
      "text/html": [
       "<pre style=\"white-space:pre;overflow-x:auto;line-height:normal;font-family:Menlo,'DejaVu Sans Mono',consolas,'Courier New',monospace\"><span style=\"font-weight: bold\"> Non-trainable params: </span><span style=\"color: #00af00; text-decoration-color: #00af00\">0</span> (0.00 B)\n",
       "</pre>\n"
      ],
      "text/plain": [
       "\u001b[1m Non-trainable params: \u001b[0m\u001b[38;5;34m0\u001b[0m (0.00 B)\n"
      ]
     },
     "metadata": {},
     "output_type": "display_data"
    }
   ],
   "source": [
    "import tensorflow as tf\n",
    "from tensorflow.keras.models import Sequential\n",
    "from tensorflow.keras.layers import LSTM, Dense\n",
    "from sklearn.model_selection import train_test_split\n",
    "\n",
    "# 1. Separate features (X) and target (y)\n",
    "target_cols = ['accel', 'brake', 'steer', 'clutch', 'focus'] + [col for col in dataset.columns if col.startswith('gear_')]\n",
    "X = dataset.drop(columns=target_cols)\n",
    "y = dataset[target_cols]\n",
    "\n",
    "# 2. Reshape X for RNN input [samples, time steps, features]\n",
    "X_reshaped = X.values.reshape(X.shape[0], 1, X.shape[1])  # Assuming 1 time step\n",
    "\n",
    "# 3. Split data into training and testing sets\n",
    "X_train, X_test, y_train, y_test = train_test_split(X_reshaped, y, test_size=0.2, random_state=42)\n",
    "\n",
    "# 4. Build the RNN model\n",
    "model = Sequential()\n",
    "model.add(LSTM(64, input_shape=(X_train.shape[1], X_train.shape[2])))\n",
    "model.add(Dense(y_train.shape[1], activation='linear'))  # Linear activation for regression\n",
    "\n",
    "# 5. Compile the model\n",
    "model.compile(optimizer='adam', loss='mean_squared_error')\n",
    "\n",
    "# 6. Model Summary\n",
    "model.summary()"
   ]
  },
  {
   "cell_type": "code",
   "execution_count": 6,
   "id": "7fb30d3d",
   "metadata": {},
   "outputs": [
    {
     "name": "stdout",
     "output_type": "stream",
     "text": [
      "Epoch 1/20\n",
      "\u001b[1m710/710\u001b[0m \u001b[32m━━━━━━━━━━━━━━━━━━━━\u001b[0m\u001b[37m\u001b[0m \u001b[1m6s\u001b[0m 5ms/step - loss: 0.0684 - val_loss: 0.0247\n",
      "Epoch 2/20\n",
      "\u001b[1m710/710\u001b[0m \u001b[32m━━━━━━━━━━━━━━━━━━━━\u001b[0m\u001b[37m\u001b[0m \u001b[1m3s\u001b[0m 4ms/step - loss: 0.0238 - val_loss: 0.0235\n",
      "Epoch 3/20\n",
      "\u001b[1m710/710\u001b[0m \u001b[32m━━━━━━━━━━━━━━━━━━━━\u001b[0m\u001b[37m\u001b[0m \u001b[1m3s\u001b[0m 4ms/step - loss: 0.0231 - val_loss: 0.0229\n",
      "Epoch 4/20\n",
      "\u001b[1m710/710\u001b[0m \u001b[32m━━━━━━━━━━━━━━━━━━━━\u001b[0m\u001b[37m\u001b[0m \u001b[1m3s\u001b[0m 4ms/step - loss: 0.0222 - val_loss: 0.0222\n",
      "Epoch 5/20\n",
      "\u001b[1m710/710\u001b[0m \u001b[32m━━━━━━━━━━━━━━━━━━━━\u001b[0m\u001b[37m\u001b[0m \u001b[1m3s\u001b[0m 4ms/step - loss: 0.0224 - val_loss: 0.0218\n",
      "Epoch 6/20\n",
      "\u001b[1m710/710\u001b[0m \u001b[32m━━━━━━━━━━━━━━━━━━━━\u001b[0m\u001b[37m\u001b[0m \u001b[1m3s\u001b[0m 4ms/step - loss: 0.0213 - val_loss: 0.0215\n",
      "Epoch 7/20\n",
      "\u001b[1m710/710\u001b[0m \u001b[32m━━━━━━━━━━━━━━━━━━━━\u001b[0m\u001b[37m\u001b[0m \u001b[1m3s\u001b[0m 4ms/step - loss: 0.0212 - val_loss: 0.0212\n",
      "Epoch 8/20\n",
      "\u001b[1m710/710\u001b[0m \u001b[32m━━━━━━━━━━━━━━━━━━━━\u001b[0m\u001b[37m\u001b[0m \u001b[1m3s\u001b[0m 4ms/step - loss: 0.0213 - val_loss: 0.0210\n",
      "Epoch 9/20\n",
      "\u001b[1m710/710\u001b[0m \u001b[32m━━━━━━━━━━━━━━━━━━━━\u001b[0m\u001b[37m\u001b[0m \u001b[1m3s\u001b[0m 4ms/step - loss: 0.0210 - val_loss: 0.0209\n",
      "Epoch 10/20\n",
      "\u001b[1m710/710\u001b[0m \u001b[32m━━━━━━━━━━━━━━━━━━━━\u001b[0m\u001b[37m\u001b[0m \u001b[1m3s\u001b[0m 4ms/step - loss: 0.0207 - val_loss: 0.0209\n",
      "Epoch 11/20\n",
      "\u001b[1m710/710\u001b[0m \u001b[32m━━━━━━━━━━━━━━━━━━━━\u001b[0m\u001b[37m\u001b[0m \u001b[1m3s\u001b[0m 3ms/step - loss: 0.0204 - val_loss: 0.0206\n",
      "Epoch 12/20\n",
      "\u001b[1m710/710\u001b[0m \u001b[32m━━━━━━━━━━━━━━━━━━━━\u001b[0m\u001b[37m\u001b[0m \u001b[1m3s\u001b[0m 4ms/step - loss: 0.0204 - val_loss: 0.0207\n",
      "Epoch 13/20\n",
      "\u001b[1m710/710\u001b[0m \u001b[32m━━━━━━━━━━━━━━━━━━━━\u001b[0m\u001b[37m\u001b[0m \u001b[1m3s\u001b[0m 3ms/step - loss: 0.0199 - val_loss: 0.0205\n",
      "Epoch 14/20\n",
      "\u001b[1m710/710\u001b[0m \u001b[32m━━━━━━━━━━━━━━━━━━━━\u001b[0m\u001b[37m\u001b[0m \u001b[1m3s\u001b[0m 4ms/step - loss: 0.0200 - val_loss: 0.0200\n",
      "Epoch 15/20\n",
      "\u001b[1m710/710\u001b[0m \u001b[32m━━━━━━━━━━━━━━━━━━━━\u001b[0m\u001b[37m\u001b[0m \u001b[1m3s\u001b[0m 4ms/step - loss: 0.0195 - val_loss: 0.0200\n",
      "Epoch 16/20\n",
      "\u001b[1m710/710\u001b[0m \u001b[32m━━━━━━━━━━━━━━━━━━━━\u001b[0m\u001b[37m\u001b[0m \u001b[1m3s\u001b[0m 4ms/step - loss: 0.0195 - val_loss: 0.0198\n",
      "Epoch 17/20\n",
      "\u001b[1m710/710\u001b[0m \u001b[32m━━━━━━━━━━━━━━━━━━━━\u001b[0m\u001b[37m\u001b[0m \u001b[1m3s\u001b[0m 4ms/step - loss: 0.0197 - val_loss: 0.0198\n",
      "Epoch 18/20\n",
      "\u001b[1m710/710\u001b[0m \u001b[32m━━━━━━━━━━━━━━━━━━━━\u001b[0m\u001b[37m\u001b[0m \u001b[1m3s\u001b[0m 4ms/step - loss: 0.0198 - val_loss: 0.0197\n",
      "Epoch 19/20\n",
      "\u001b[1m710/710\u001b[0m \u001b[32m━━━━━━━━━━━━━━━━━━━━\u001b[0m\u001b[37m\u001b[0m \u001b[1m6s\u001b[0m 5ms/step - loss: 0.0196 - val_loss: 0.0198\n",
      "Epoch 20/20\n",
      "\u001b[1m710/710\u001b[0m \u001b[32m━━━━━━━━━━━━━━━━━━━━\u001b[0m\u001b[37m\u001b[0m \u001b[1m3s\u001b[0m 4ms/step - loss: 0.0197 - val_loss: 0.0196\n",
      "\u001b[1m198/198\u001b[0m \u001b[32m━━━━━━━━━━━━━━━━━━━━\u001b[0m\u001b[37m\u001b[0m \u001b[1m1s\u001b[0m 3ms/step - loss: 0.0199\n",
      "Test Loss: 0.019620269536972046\n",
      "\u001b[1m198/198\u001b[0m \u001b[32m━━━━━━━━━━━━━━━━━━━━\u001b[0m\u001b[37m\u001b[0m \u001b[1m1s\u001b[0m 3ms/step\n",
      "\n",
      "--- Sample Predictions (first 5) ---\n",
      "[[ 1.0299159e+00  6.1893612e-03  6.0883337e-01 -1.3071937e-03\n",
      "  -4.1125342e-05  1.0108451e+00]\n",
      " [ 9.4005311e-01  2.0841755e-02  6.4703208e-01  3.9840816e-04\n",
      "  -2.1576602e-04  1.0092255e+00]\n",
      " [ 9.8595482e-01  2.8804637e-02  6.4346051e-01  6.8436842e-05\n",
      "   1.2603775e-04  1.0132771e+00]\n",
      " [ 1.0280268e+00  4.7969967e-03  6.0938191e-01 -4.8939604e-05\n",
      "  -5.4274965e-04  1.0263187e+00]\n",
      " [ 1.0014720e+00 -8.0541968e-03  5.6562179e-01 -8.8444399e-04\n",
      "  -4.5319926e-04  1.0163527e+00]]\n"
     ]
    }
   ],
   "source": [
    "# 1. Train the model\n",
    "history = model.fit(X_train, y_train, epochs=20, batch_size=32, validation_split=0.1)\n",
    "\n",
    "# 2. Evaluate the model on the test set\n",
    "loss = model.evaluate(X_test, y_test)\n",
    "print(f\"Test Loss: {loss}\")\n",
    "\n",
    "# 3. Make predictions\n",
    "y_pred = model.predict(X_test)\n",
    "\n",
    "# 4. Print a few predictions\n",
    "print(\"\\n--- Sample Predictions (first 5) ---\")\n",
    "print(y_pred[:5])"
   ]
  },
  {
   "cell_type": "code",
   "execution_count": 8,
   "id": "910ba9f9",
   "metadata": {},
   "outputs": [
    {
     "name": "stdout",
     "output_type": "stream",
     "text": [
      "\n",
      "--- Data Types ---\n",
      "Type of y_pred_continuous: <class 'numpy.ndarray'>\n",
      "Type of y_test_continuous: <class 'pandas.core.frame.DataFrame'>\n",
      "Data type of elements in y_pred_continuous: float32\n",
      "Data type of elements in y_test_continuous: float64\n",
      "\n",
      "--- Shapes ---\n",
      "Shape of y_pred_continuous: (6308, 0)\n",
      "Shape of y_test_continuous: (6308, 0)\n"
     ]
    }
   ],
   "source": [
    "# 1. Print data types of the relevant variables\n",
    "print(\"\\n--- Data Types ---\")\n",
    "print(\"Type of y_pred_continuous:\", type(y_pred_continuous))\n",
    "print(\"Type of y_test_continuous:\", type(y_test_continuous))\n",
    "print(\"Data type of elements in y_pred_continuous:\", y_pred_continuous.dtype)\n",
    "print(\"Data type of elements in y_test_continuous:\", y_test_continuous.iloc[0].dtype)\n",
    "\n",
    "# 2. Print shapes of the variables\n",
    "print(\"\\n--- Shapes ---\")\n",
    "print(\"Shape of y_pred_continuous:\", y_pred_continuous.shape)\n",
    "print(\"Shape of y_test_continuous:\", y_test_continuous.shape)"
   ]
  },
  {
   "cell_type": "code",
   "execution_count": 9,
   "id": "caaaf5bf",
   "metadata": {},
   "outputs": [
    {
     "name": "stdout",
     "output_type": "stream",
     "text": [
      "\n",
      "--- Evaluation Metrics ---\n",
      "Mean Absolute Error (MAE): 0.07015375792980194\n",
      "R-squared (R2): 0.11659787595272064\n",
      "Gear Prediction Accuracy: 0.24143944197844008\n"
     ]
    }
   ],
   "source": [
    "import numpy as np\n",
    "from sklearn.metrics import mean_absolute_error, r2_score\n",
    "\n",
    "# 1. Extract gear predictions and convert to single values\n",
    "gear_pred_one_hot = y_pred[:, -6:]\n",
    "gear_pred = np.argmax(gear_pred_one_hot, axis=1)\n",
    "\n",
    "gear_true_one_hot = y_test.iloc[:, -6:]\n",
    "gear_true = np.argmax(gear_true_one_hot.values, axis=1)\n",
    "\n",
    "# 2. Extract predictions for continuous variables (CORRECTED)\n",
    "y_pred_continuous = y_pred[:, :5]  # First 5 columns\n",
    "y_test_continuous = y_test.iloc[:, :5]\n",
    "\n",
    "# 3. Calculate evaluation metrics\n",
    "mae = mean_absolute_error(y_test_continuous, y_pred_continuous)\n",
    "r2 = r2_score(y_test_continuous, y_pred_continuous)\n",
    "accuracy = np.mean(gear_pred == gear_true)\n",
    "\n",
    "print(\"\\n--- Evaluation Metrics ---\")\n",
    "print(f\"Mean Absolute Error (MAE): {mae}\")\n",
    "print(f\"R-squared (R2): {r2}\")\n",
    "print(f\"Gear Prediction Accuracy: {accuracy}\")"
   ]
  },
  {
   "cell_type": "markdown",
   "id": "716da6cc",
   "metadata": {},
   "source": [
    "LTMS"
   ]
  },
  {
   "cell_type": "code",
   "execution_count": 10,
   "id": "3a50585e",
   "metadata": {},
   "outputs": [
    {
     "name": "stderr",
     "output_type": "stream",
     "text": [
      "d:\\University Work\\6th Semester\\ML\\ML_Semester-Project_i222369_i222325\\tfenv311\\Lib\\site-packages\\keras\\src\\layers\\rnn\\rnn.py:200: UserWarning: Do not pass an `input_shape`/`input_dim` argument to a layer. When using Sequential models, prefer using an `Input(shape)` object as the first layer in the model instead.\n",
      "  super().__init__(**kwargs)\n"
     ]
    },
    {
     "data": {
      "text/html": [
       "<pre style=\"white-space:pre;overflow-x:auto;line-height:normal;font-family:Menlo,'DejaVu Sans Mono',consolas,'Courier New',monospace\"><span style=\"font-weight: bold\">Model: \"sequential_1\"</span>\n",
       "</pre>\n"
      ],
      "text/plain": [
       "\u001b[1mModel: \"sequential_1\"\u001b[0m\n"
      ]
     },
     "metadata": {},
     "output_type": "display_data"
    },
    {
     "data": {
      "text/html": [
       "<pre style=\"white-space:pre;overflow-x:auto;line-height:normal;font-family:Menlo,'DejaVu Sans Mono',consolas,'Courier New',monospace\">┏━━━━━━━━━━━━━━━━━━━━━━━━━━━━━━━━━┳━━━━━━━━━━━━━━━━━━━━━━━━┳━━━━━━━━━━━━━━━┓\n",
       "┃<span style=\"font-weight: bold\"> Layer (type)                    </span>┃<span style=\"font-weight: bold\"> Output Shape           </span>┃<span style=\"font-weight: bold\">       Param # </span>┃\n",
       "┡━━━━━━━━━━━━━━━━━━━━━━━━━━━━━━━━━╇━━━━━━━━━━━━━━━━━━━━━━━━╇━━━━━━━━━━━━━━━┩\n",
       "│ lstm_1 (<span style=\"color: #0087ff; text-decoration-color: #0087ff\">LSTM</span>)                   │ (<span style=\"color: #00d7ff; text-decoration-color: #00d7ff\">None</span>, <span style=\"color: #00af00; text-decoration-color: #00af00\">1</span>, <span style=\"color: #00af00; text-decoration-color: #00af00\">64</span>)          │        <span style=\"color: #00af00; text-decoration-color: #00af00\">21,504</span> │\n",
       "├─────────────────────────────────┼────────────────────────┼───────────────┤\n",
       "│ lstm_2 (<span style=\"color: #0087ff; text-decoration-color: #0087ff\">LSTM</span>)                   │ (<span style=\"color: #00d7ff; text-decoration-color: #00d7ff\">None</span>, <span style=\"color: #00af00; text-decoration-color: #00af00\">64</span>)             │        <span style=\"color: #00af00; text-decoration-color: #00af00\">33,024</span> │\n",
       "├─────────────────────────────────┼────────────────────────┼───────────────┤\n",
       "│ dense_1 (<span style=\"color: #0087ff; text-decoration-color: #0087ff\">Dense</span>)                 │ (<span style=\"color: #00d7ff; text-decoration-color: #00d7ff\">None</span>, <span style=\"color: #00af00; text-decoration-color: #00af00\">6</span>)              │           <span style=\"color: #00af00; text-decoration-color: #00af00\">390</span> │\n",
       "└─────────────────────────────────┴────────────────────────┴───────────────┘\n",
       "</pre>\n"
      ],
      "text/plain": [
       "┏━━━━━━━━━━━━━━━━━━━━━━━━━━━━━━━━━┳━━━━━━━━━━━━━━━━━━━━━━━━┳━━━━━━━━━━━━━━━┓\n",
       "┃\u001b[1m \u001b[0m\u001b[1mLayer (type)                   \u001b[0m\u001b[1m \u001b[0m┃\u001b[1m \u001b[0m\u001b[1mOutput Shape          \u001b[0m\u001b[1m \u001b[0m┃\u001b[1m \u001b[0m\u001b[1m      Param #\u001b[0m\u001b[1m \u001b[0m┃\n",
       "┡━━━━━━━━━━━━━━━━━━━━━━━━━━━━━━━━━╇━━━━━━━━━━━━━━━━━━━━━━━━╇━━━━━━━━━━━━━━━┩\n",
       "│ lstm_1 (\u001b[38;5;33mLSTM\u001b[0m)                   │ (\u001b[38;5;45mNone\u001b[0m, \u001b[38;5;34m1\u001b[0m, \u001b[38;5;34m64\u001b[0m)          │        \u001b[38;5;34m21,504\u001b[0m │\n",
       "├─────────────────────────────────┼────────────────────────┼───────────────┤\n",
       "│ lstm_2 (\u001b[38;5;33mLSTM\u001b[0m)                   │ (\u001b[38;5;45mNone\u001b[0m, \u001b[38;5;34m64\u001b[0m)             │        \u001b[38;5;34m33,024\u001b[0m │\n",
       "├─────────────────────────────────┼────────────────────────┼───────────────┤\n",
       "│ dense_1 (\u001b[38;5;33mDense\u001b[0m)                 │ (\u001b[38;5;45mNone\u001b[0m, \u001b[38;5;34m6\u001b[0m)              │           \u001b[38;5;34m390\u001b[0m │\n",
       "└─────────────────────────────────┴────────────────────────┴───────────────┘\n"
      ]
     },
     "metadata": {},
     "output_type": "display_data"
    },
    {
     "data": {
      "text/html": [
       "<pre style=\"white-space:pre;overflow-x:auto;line-height:normal;font-family:Menlo,'DejaVu Sans Mono',consolas,'Courier New',monospace\"><span style=\"font-weight: bold\"> Total params: </span><span style=\"color: #00af00; text-decoration-color: #00af00\">54,918</span> (214.52 KB)\n",
       "</pre>\n"
      ],
      "text/plain": [
       "\u001b[1m Total params: \u001b[0m\u001b[38;5;34m54,918\u001b[0m (214.52 KB)\n"
      ]
     },
     "metadata": {},
     "output_type": "display_data"
    },
    {
     "data": {
      "text/html": [
       "<pre style=\"white-space:pre;overflow-x:auto;line-height:normal;font-family:Menlo,'DejaVu Sans Mono',consolas,'Courier New',monospace\"><span style=\"font-weight: bold\"> Trainable params: </span><span style=\"color: #00af00; text-decoration-color: #00af00\">54,918</span> (214.52 KB)\n",
       "</pre>\n"
      ],
      "text/plain": [
       "\u001b[1m Trainable params: \u001b[0m\u001b[38;5;34m54,918\u001b[0m (214.52 KB)\n"
      ]
     },
     "metadata": {},
     "output_type": "display_data"
    },
    {
     "data": {
      "text/html": [
       "<pre style=\"white-space:pre;overflow-x:auto;line-height:normal;font-family:Menlo,'DejaVu Sans Mono',consolas,'Courier New',monospace\"><span style=\"font-weight: bold\"> Non-trainable params: </span><span style=\"color: #00af00; text-decoration-color: #00af00\">0</span> (0.00 B)\n",
       "</pre>\n"
      ],
      "text/plain": [
       "\u001b[1m Non-trainable params: \u001b[0m\u001b[38;5;34m0\u001b[0m (0.00 B)\n"
      ]
     },
     "metadata": {},
     "output_type": "display_data"
    },
    {
     "name": "stdout",
     "output_type": "stream",
     "text": [
      "Epoch 1/20\n",
      "\u001b[1m710/710\u001b[0m \u001b[32m━━━━━━━━━━━━━━━━━━━━\u001b[0m\u001b[37m\u001b[0m \u001b[1m9s\u001b[0m 5ms/step - loss: 0.0744 - val_loss: 0.0239\n",
      "Epoch 2/20\n",
      "\u001b[1m710/710\u001b[0m \u001b[32m━━━━━━━━━━━━━━━━━━━━\u001b[0m\u001b[37m\u001b[0m \u001b[1m3s\u001b[0m 5ms/step - loss: 0.0235 - val_loss: 0.0228\n",
      "Epoch 3/20\n",
      "\u001b[1m710/710\u001b[0m \u001b[32m━━━━━━━━━━━━━━━━━━━━\u001b[0m\u001b[37m\u001b[0m \u001b[1m3s\u001b[0m 5ms/step - loss: 0.0230 - val_loss: 0.0222\n",
      "Epoch 4/20\n",
      "\u001b[1m710/710\u001b[0m \u001b[32m━━━━━━━━━━━━━━━━━━━━\u001b[0m\u001b[37m\u001b[0m \u001b[1m3s\u001b[0m 4ms/step - loss: 0.0219 - val_loss: 0.0228\n",
      "Epoch 5/20\n",
      "\u001b[1m710/710\u001b[0m \u001b[32m━━━━━━━━━━━━━━━━━━━━\u001b[0m\u001b[37m\u001b[0m \u001b[1m3s\u001b[0m 5ms/step - loss: 0.0213 - val_loss: 0.0220\n",
      "Epoch 6/20\n",
      "\u001b[1m710/710\u001b[0m \u001b[32m━━━━━━━━━━━━━━━━━━━━\u001b[0m\u001b[37m\u001b[0m \u001b[1m4s\u001b[0m 5ms/step - loss: 0.0209 - val_loss: 0.0209\n",
      "Epoch 7/20\n",
      "\u001b[1m710/710\u001b[0m \u001b[32m━━━━━━━━━━━━━━━━━━━━\u001b[0m\u001b[37m\u001b[0m \u001b[1m5s\u001b[0m 5ms/step - loss: 0.0206 - val_loss: 0.0208\n",
      "Epoch 8/20\n",
      "\u001b[1m710/710\u001b[0m \u001b[32m━━━━━━━━━━━━━━━━━━━━\u001b[0m\u001b[37m\u001b[0m \u001b[1m3s\u001b[0m 4ms/step - loss: 0.0205 - val_loss: 0.0203\n",
      "Epoch 9/20\n",
      "\u001b[1m710/710\u001b[0m \u001b[32m━━━━━━━━━━━━━━━━━━━━\u001b[0m\u001b[37m\u001b[0m \u001b[1m3s\u001b[0m 5ms/step - loss: 0.0201 - val_loss: 0.0201\n",
      "Epoch 10/20\n",
      "\u001b[1m710/710\u001b[0m \u001b[32m━━━━━━━━━━━━━━━━━━━━\u001b[0m\u001b[37m\u001b[0m \u001b[1m3s\u001b[0m 4ms/step - loss: 0.0201 - val_loss: 0.0201\n",
      "Epoch 11/20\n",
      "\u001b[1m710/710\u001b[0m \u001b[32m━━━━━━━━━━━━━━━━━━━━\u001b[0m\u001b[37m\u001b[0m \u001b[1m3s\u001b[0m 5ms/step - loss: 0.0198 - val_loss: 0.0203\n",
      "Epoch 12/20\n",
      "\u001b[1m710/710\u001b[0m \u001b[32m━━━━━━━━━━━━━━━━━━━━\u001b[0m\u001b[37m\u001b[0m \u001b[1m3s\u001b[0m 5ms/step - loss: 0.0198 - val_loss: 0.0200\n",
      "Epoch 13/20\n",
      "\u001b[1m710/710\u001b[0m \u001b[32m━━━━━━━━━━━━━━━━━━━━\u001b[0m\u001b[37m\u001b[0m \u001b[1m3s\u001b[0m 4ms/step - loss: 0.0196 - val_loss: 0.0196\n",
      "Epoch 14/20\n",
      "\u001b[1m710/710\u001b[0m \u001b[32m━━━━━━━━━━━━━━━━━━━━\u001b[0m\u001b[37m\u001b[0m \u001b[1m3s\u001b[0m 5ms/step - loss: 0.0193 - val_loss: 0.0194\n",
      "Epoch 15/20\n",
      "\u001b[1m710/710\u001b[0m \u001b[32m━━━━━━━━━━━━━━━━━━━━\u001b[0m\u001b[37m\u001b[0m \u001b[1m3s\u001b[0m 5ms/step - loss: 0.0187 - val_loss: 0.0196\n",
      "Epoch 16/20\n",
      "\u001b[1m710/710\u001b[0m \u001b[32m━━━━━━━━━━━━━━━━━━━━\u001b[0m\u001b[37m\u001b[0m \u001b[1m3s\u001b[0m 5ms/step - loss: 0.0191 - val_loss: 0.0193\n",
      "Epoch 17/20\n",
      "\u001b[1m710/710\u001b[0m \u001b[32m━━━━━━━━━━━━━━━━━━━━\u001b[0m\u001b[37m\u001b[0m \u001b[1m3s\u001b[0m 5ms/step - loss: 0.0190 - val_loss: 0.0191\n",
      "Epoch 18/20\n",
      "\u001b[1m710/710\u001b[0m \u001b[32m━━━━━━━━━━━━━━━━━━━━\u001b[0m\u001b[37m\u001b[0m \u001b[1m3s\u001b[0m 5ms/step - loss: 0.0189 - val_loss: 0.0190\n",
      "Epoch 19/20\n",
      "\u001b[1m710/710\u001b[0m \u001b[32m━━━━━━━━━━━━━━━━━━━━\u001b[0m\u001b[37m\u001b[0m \u001b[1m4s\u001b[0m 5ms/step - loss: 0.0189 - val_loss: 0.0189\n",
      "Epoch 20/20\n",
      "\u001b[1m710/710\u001b[0m \u001b[32m━━━━━━━━━━━━━━━━━━━━\u001b[0m\u001b[37m\u001b[0m \u001b[1m3s\u001b[0m 5ms/step - loss: 0.0187 - val_loss: 0.0191\n",
      "\n",
      "Test Loss (Complex Model): 0.019273117184638977\n",
      "\n",
      "--- Sample Predictions (Complex Model, first 5) ---\n",
      "[[ 9.8679459e-01  3.3838376e-02  5.9223324e-01  2.5932398e-04\n",
      "  -4.9961731e-04  1.0014977e+00]\n",
      " [ 1.0536575e+00  1.8921141e-02  6.3387603e-01 -3.4964178e-04\n",
      "   2.2680312e-04  1.0070965e+00]\n",
      " [ 1.0750774e+00  2.1341544e-02  6.1365837e-01 -6.1498675e-04\n",
      "   4.6580657e-04  1.0059452e+00]\n",
      " [ 1.0579073e+00 -4.9606562e-03  5.9474212e-01  2.1277461e-04\n",
      "  -1.1397209e-03  1.0042527e+00]\n",
      " [ 1.0445007e+00  2.7678739e-03  5.5732334e-01  4.0175393e-05\n",
      "  -6.3684955e-04  1.0026398e+00]]\n"
     ]
    }
   ],
   "source": [
    "import tensorflow as tf\n",
    "from tensorflow.keras.models import Sequential\n",
    "from tensorflow.keras.layers import LSTM, Dense\n",
    "\n",
    "# 1. Build the RNN model with two LSTM layers\n",
    "model_complex = Sequential()\n",
    "model_complex.add(LSTM(64, input_shape=(X_train.shape[1], X_train.shape[2]), return_sequences=True))  # First LSTM, return sequences\n",
    "model_complex.add(LSTM(64))  # Second LSTM\n",
    "model_complex.add(Dense(y_train.shape[1], activation='linear'))\n",
    "\n",
    "# 2. Compile the model\n",
    "model_complex.compile(optimizer='adam', loss='mean_squared_error')\n",
    "\n",
    "# 3. Model Summary\n",
    "model_complex.summary()\n",
    "\n",
    "# 4. Train the model\n",
    "history_complex = model_complex.fit(X_train, y_train, epochs=20, batch_size=32, validation_split=0.1, verbose=1)\n",
    "\n",
    "# 5. Evaluate the model\n",
    "loss_complex = model_complex.evaluate(X_test, y_test, verbose=0)\n",
    "print(f\"\\nTest Loss (Complex Model): {loss_complex}\")\n",
    "\n",
    "# 6. Make predictions\n",
    "y_pred_complex = model_complex.predict(X_test, verbose=0)\n",
    "\n",
    "# 7. Print a few predictions\n",
    "print(\"\\n--- Sample Predictions (Complex Model, first 5) ---\")\n",
    "print(y_pred_complex[:5])"
   ]
  }
 ],
 "metadata": {
  "kernelspec": {
   "display_name": "tfenv311",
   "language": "python",
   "name": "python3"
  },
  "language_info": {
   "codemirror_mode": {
    "name": "ipython",
    "version": 3
   },
   "file_extension": ".py",
   "mimetype": "text/x-python",
   "name": "python",
   "nbconvert_exporter": "python",
   "pygments_lexer": "ipython3",
   "version": "3.11.0"
  }
 },
 "nbformat": 4,
 "nbformat_minor": 5
}
